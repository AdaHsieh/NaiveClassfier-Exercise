{
 "cells": [
  {
   "cell_type": "code",
   "execution_count": 1,
   "metadata": {
    "collapsed": false
   },
   "outputs": [
    {
     "name": "stdout",
     "output_type": "stream",
     "text": [
      "The food was good. But the service was horrible. My father was not pleased.\n",
      "\n",
      "=>pos\n",
      "\n",
      "I like this new tv show.\n",
      "\n",
      "=>pos\n",
      "\n",
      "I love this sandwich.\n",
      "\n",
      "=>pos\n",
      "\n",
      "this is an amazing place!\n",
      "\n",
      "=>pos\n",
      "\n",
      "I feel very good about these beers.\n",
      "\n",
      "=>pos\n",
      "\n",
      "this is my best work.\n",
      "\n",
      "=>pos\n",
      "\n",
      "what an awesome view.\n",
      "\n",
      "=>pos\n",
      "\n",
      "I do not like this restaurant.\n",
      "\n",
      "=>neg\n",
      "\n",
      "I am tired of this stuff.\n",
      "\n",
      "=>neg\n",
      "\n",
      "I cant deal with this.\n",
      "\n",
      "=>neg\n",
      "\n",
      "he is my sworn enemy!\n",
      "\n",
      "=>pos\n",
      "\n",
      "my boss is horrible.\n",
      "\n",
      "=>pos\n",
      "\n",
      "I do not enjoy my job.\n",
      "\n",
      "=>neg\n",
      "\n",
      "the beer was good.\n",
      "\n",
      "=>pos\n",
      "\n",
      "I aint feeling dandy today.\n",
      "\n",
      "=>pos\n",
      "\n",
      "I feel amazing!\n",
      "\n",
      "=>pos\n",
      "\n",
      "Gary is a friend of mine.\n",
      "\n",
      "=>pos\n",
      "\n",
      "I can't believe I'm doing this.\n",
      "=>neg\n",
      "\n"
     ]
    }
   ],
   "source": [
    "from textblob.classifiers import NaiveBayesClassifier\n",
    "from textblob import TextBlob\n",
    "\n",
    "with open('sample_train.json','r') as fp:\n",
    "    cl = NaiveBayesClassifier(fp, format=\"json\")\n",
    "\n",
    "with open('sample_test.txt', 'r') as f:\n",
    "    data = f.readlines()\n",
    "    \n",
    "    for line in data:\n",
    "        st1 = cl.classify(line)\n",
    "        print (line)\n",
    "        print ('=>'+st1)\n",
    "        print ()"
   ]
  },
  {
   "cell_type": "code",
   "execution_count": null,
   "metadata": {
    "collapsed": true
   },
   "outputs": [],
   "source": []
  }
 ],
 "metadata": {
  "kernelspec": {
   "display_name": "Python 3",
   "language": "python",
   "name": "python3"
  },
  "language_info": {
   "codemirror_mode": {
    "name": "ipython",
    "version": 3
   },
   "file_extension": ".py",
   "mimetype": "text/x-python",
   "name": "python",
   "nbconvert_exporter": "python",
   "pygments_lexer": "ipython3",
   "version": "3.5.1"
  }
 },
 "nbformat": 4,
 "nbformat_minor": 0
}
